{
 "cells": [
  {
   "cell_type": "markdown",
   "source": [
    "### Import libraries"
   ],
   "metadata": {
    "collapsed": false
   },
   "id": "eb6c25d1714e57f0"
  },
  {
   "cell_type": "code",
   "execution_count": 1,
   "outputs": [
    {
     "data": {
      "text/plain": "<module 'DENN_utils' from '/Users/andersen/Desktop/DENN_Application/DENN_Python/DENN_utils.py'>"
     },
     "execution_count": 1,
     "metadata": {},
     "output_type": "execute_result"
    }
   ],
   "source": [
    "import torch\n",
    "import pandas as pd\n",
    "import numpy as np\n",
    "import h5py\n",
    "\n",
    "from sbi import utils as utils\n",
    "from sbi import analysis as analysis\n",
    "from sbi.inference.base import infer\n",
    "\n",
    "import pickle\n",
    "from random import Random\n",
    "\n",
    "import DENN_utils\n",
    "from DENN_utils import *\n",
    "\n",
    "\n",
    "\n",
    "\n",
    "import importlib\n",
    "importlib.reload(DENN_utils)"
   ],
   "metadata": {
    "collapsed": false,
    "ExecuteTime": {
     "end_time": "2024-07-16T08:23:30.081463Z",
     "start_time": "2024-07-16T08:23:20.144384Z"
    }
   },
   "id": "2a02b9b7458f58d0"
  },
  {
   "cell_type": "markdown",
   "source": [
    "### 1. Load Rosenzweig-Macarthur Simulation data"
   ],
   "metadata": {
    "collapsed": false,
    "ExecuteTime": {
     "end_time": "2023-11-12T23:57:17.376068Z",
     "start_time": "2023-11-12T23:57:17.371677Z"
    }
   },
   "id": "b36c33e621994ff3"
  },
  {
   "cell_type": "code",
   "execution_count": 2,
   "outputs": [],
   "source": [
    "filepath = '../R-M data/final_output.mat'\n",
    "full_data = get_RM_full_data(filepath)"
   ],
   "metadata": {
    "collapsed": false,
    "ExecuteTime": {
     "end_time": "2024-07-16T08:23:51.434465Z",
     "start_time": "2024-07-16T08:23:51.393491Z"
    }
   },
   "id": "da4830d9e46ef909"
  },
  {
   "cell_type": "markdown",
   "source": [
    "### 2. Specify prior"
   ],
   "metadata": {
    "collapsed": false,
    "ExecuteTime": {
     "end_time": "2023-11-12T23:57:18.872741Z",
     "start_time": "2023-11-12T23:57:18.854705Z"
    }
   },
   "id": "5a9d705f36104331"
  },
  {
   "cell_type": "code",
   "execution_count": 3,
   "outputs": [],
   "source": [
    "num_dim = 2\n",
    "uniform_prior = utils.BoxUniform(low = 0.19 * torch.ones(num_dim), high = 0.61 * torch.ones(num_dim))"
   ],
   "metadata": {
    "collapsed": false,
    "ExecuteTime": {
     "end_time": "2024-07-16T08:24:01.132728Z",
     "start_time": "2024-07-16T08:24:01.123900Z"
    }
   },
   "id": "9d9b80393136f0c8"
  },
  {
   "cell_type": "markdown",
   "source": [
    "Two notes: \n",
    "1. As the data reflects a discretized $(m,h)$ space with grid size of 0.02, the box-uniform support is to take care of edge value\n",
    "2. As we only use the lower left triangle regime, we will symmetrically map the grids on the box uniform. For posterior data analysis, it will be re-mapped back"
   ],
   "metadata": {
    "collapsed": false,
    "ExecuteTime": {
     "end_time": "2023-11-12T23:57:19.775544Z",
     "start_time": "2023-11-12T23:57:19.772101Z"
    }
   },
   "id": "b89bbd8e9aaafb9f"
  },
  {
   "cell_type": "markdown",
   "source": [
    "### 3. Specify simulator"
   ],
   "metadata": {
    "collapsed": false
   },
   "id": "dceceb9d2008cd9e"
  },
  {
   "cell_type": "code",
   "execution_count": 4,
   "outputs": [
    {
     "name": "stdout",
     "output_type": "stream",
     "text": [
      "tensor([ 0.9127,  0.5580, 40.1500], dtype=torch.float64)\n"
     ]
    }
   ],
   "source": [
    "test_parameter_sample = torch.tensor([0.2, 0.2])\n",
    "test_sim_data = ODE_simulator_on_fine_grids(test_parameter_sample)\n",
    "print(test_sim_data)"
   ],
   "metadata": {
    "collapsed": false,
    "ExecuteTime": {
     "end_time": "2024-07-16T08:24:03.389540Z",
     "start_time": "2024-07-16T08:24:03.378353Z"
    }
   },
   "id": "d027dc09e36a920d"
  },
  {
   "cell_type": "markdown",
   "source": [
    "This is a test usage of R-M data simulator. `ODE_simulator_on_fine_grids` is implemented in `DENN_utils`. It is designed to be used out-of-box."
   ],
   "metadata": {
    "collapsed": false,
    "ExecuteTime": {
     "end_time": "2023-11-12T23:57:29.988427Z",
     "start_time": "2023-11-12T23:57:28.508665Z"
    }
   },
   "id": "a65177cdb04ce642"
  },
  {
   "cell_type": "markdown",
   "source": [
    "### 4. Train a network using SNLE"
   ],
   "metadata": {
    "collapsed": false
   },
   "id": "9b19e49b292ac957"
  },
  {
   "cell_type": "code",
   "execution_count": 5,
   "outputs": [
    {
     "data": {
      "text/plain": "Running 25000 simulations.:   0%|          | 0/25000 [00:00<?, ?it/s]",
      "application/vnd.jupyter.widget-view+json": {
       "version_major": 2,
       "version_minor": 0,
       "model_id": "3b0f5454f2a84eeea97e06958f684b07"
      }
     },
     "metadata": {},
     "output_type": "display_data"
    },
    {
     "name": "stdout",
     "output_type": "stream",
     "text": [
      " Neural network successfully converged after 86 epochs."
     ]
    }
   ],
   "source": [
    "num_of_sim = 25000\n",
    "network_self = infer(ODE_simulator_on_fine_grids, uniform_prior, method = \"SNLE\", num_simulations = num_of_sim)"
   ],
   "metadata": {
    "collapsed": false,
    "ExecuteTime": {
     "end_time": "2024-07-16T08:26:50.063239Z",
     "start_time": "2024-07-16T08:24:58.853938Z"
    }
   },
   "id": "c731716c016b7f50"
  },
  {
   "cell_type": "markdown",
   "source": [
    "### 4.1 Test memory use"
   ],
   "metadata": {
    "collapsed": false
   },
   "id": "c25e819357744292"
  },
  {
   "cell_type": "code",
   "execution_count": 53,
   "outputs": [
    {
     "data": {
      "text/plain": "Running 50 simulations.:   0%|          | 0/50 [00:00<?, ?it/s]",
      "application/vnd.jupyter.widget-view+json": {
       "version_major": 2,
       "version_minor": 0,
       "model_id": "6d5255e6271a4762bf186fb45b424395"
      }
     },
     "metadata": {},
     "output_type": "display_data"
    },
    {
     "name": "stdout",
     "output_type": "stream",
     "text": [
      " Neural network successfully converged after 120 epochs.Memory used: 0.375 MB\n"
     ]
    }
   ],
   "source": [
    "import psutil\n",
    "\n",
    "def check_memory():\n",
    "    process = psutil.Process()\n",
    "    return process.memory_info().rss / (1024 * 1024)\n",
    "\n",
    "memory_before = check_memory()\n",
    "### Start your code\n",
    "num_of_sim = 50\n",
    "network_self = infer(ODE_simulator_on_fine_grids, uniform_prior, method = \"SNLE\", num_simulations = num_of_sim)\n",
    "\n",
    "\n",
    "### End your code\n",
    "memory_after = check_memory()\n",
    "\n",
    "print(f\"Memory used: {memory_after - memory_before} MB\")\n"
   ],
   "metadata": {
    "collapsed": false,
    "ExecuteTime": {
     "end_time": "2024-07-05T09:46:31.761870Z",
     "start_time": "2024-07-05T09:46:31.219326Z"
    }
   },
   "id": "11a4e0a2d2b37751"
  },
  {
   "cell_type": "markdown",
   "source": [
    "### 5. Save the network using pickle"
   ],
   "metadata": {
    "collapsed": false,
    "ExecuteTime": {
     "end_time": "2023-11-12T23:56:39.877416Z",
     "start_time": "2023-11-12T23:56:36.832611Z"
    }
   },
   "id": "77d0803426ec2658"
  },
  {
   "cell_type": "code",
   "execution_count": 6,
   "outputs": [],
   "source": [
    "save_to_pickle(network_self, 'network_self_pickle')"
   ],
   "metadata": {
    "collapsed": false,
    "ExecuteTime": {
     "end_time": "2024-07-16T08:27:09.266115Z",
     "start_time": "2024-07-16T08:27:09.250863Z"
    }
   },
   "id": "8300702837326dd5"
  },
  {
   "cell_type": "markdown",
   "source": [
    "If you don't want to train the network every time, you can save it using pickle. Note that this is more suitable for short-term storage. For long term storage, consider using JSON"
   ],
   "metadata": {
    "collapsed": false
   },
   "id": "41e1f657763522db"
  },
  {
   "cell_type": "markdown",
   "source": [
    "### 6. Load the network"
   ],
   "metadata": {
    "collapsed": false
   },
   "id": "640757c83524d2cf"
  },
  {
   "cell_type": "code",
   "execution_count": 7,
   "outputs": [],
   "source": [
    "network_self = load_from_pickle('network_self_pickle')"
   ],
   "metadata": {
    "collapsed": false,
    "ExecuteTime": {
     "end_time": "2024-07-16T08:27:12.006638Z",
     "start_time": "2024-07-16T08:27:11.999210Z"
    }
   },
   "id": "2d805edf4df4691a"
  },
  {
   "cell_type": "markdown",
   "source": [
    "### 7. Test network performance"
   ],
   "metadata": {
    "collapsed": false
   },
   "id": "8b113272fb35e31f"
  },
  {
   "cell_type": "markdown",
   "source": [
    "We use $[X_{amp}, Y_{amp}, T]$ data from $(m,h) = (0.6, 0.2)$ to evaluate the performance"
   ],
   "metadata": {
    "collapsed": false
   },
   "id": "7d3c3de81cb265ba"
  },
  {
   "cell_type": "code",
   "execution_count": 8,
   "outputs": [],
   "source": [
    "test_data = full_data[20,0,:,:]\n",
    "num_of_observations = 20\n",
    "temp_observation = get_sample(test_data, num_of_observations)"
   ],
   "metadata": {
    "collapsed": false,
    "ExecuteTime": {
     "end_time": "2024-07-16T08:27:22.644244Z",
     "start_time": "2024-07-16T08:27:22.637817Z"
    }
   },
   "id": "692f248a9eb5ffa1"
  },
  {
   "cell_type": "markdown",
   "source": [
    "Then we use the network to perform density estimation. This process should yield a posterior sample given observation data"
   ],
   "metadata": {
    "collapsed": false,
    "ExecuteTime": {
     "end_time": "2023-11-12T23:56:51.617908Z",
     "start_time": "2023-11-12T23:56:51.611012Z"
    }
   },
   "id": "30c9998a8910123b"
  },
  {
   "cell_type": "code",
   "execution_count": 9,
   "outputs": [
    {
     "name": "stderr",
     "output_type": "stream",
     "text": [
      "/Users/andersen/miniconda3/lib/python3.11/site-packages/sbi/utils/sbiutils.py:316: UserWarning: An x with a batch size of 20 was passed. It will be interpreted as a batch of independent and identically\n",
      "            distributed data X={x_1, ..., x_n}, i.e., data generated based on the\n",
      "            same underlying (unknown) parameter. The resulting posterior will be with\n",
      "            respect to entire batch, i.e,. p(theta | X).\n",
      "  warnings.warn(\n"
     ]
    },
    {
     "data": {
      "text/plain": "  0%|          | 0/50 [00:00<?, ?it/s]",
      "application/vnd.jupyter.widget-view+json": {
       "version_major": 2,
       "version_minor": 0,
       "model_id": "76c6b07e8f2147fb9550eef452ddd74c"
      }
     },
     "metadata": {},
     "output_type": "display_data"
    },
    {
     "data": {
      "text/plain": "  0%|          | 0/1100 [00:00<?, ?it/s]",
      "application/vnd.jupyter.widget-view+json": {
       "version_major": 2,
       "version_minor": 0,
       "model_id": "7ea682b6e4a84d109033baee9f8877df"
      }
     },
     "metadata": {},
     "output_type": "display_data"
    }
   ],
   "source": [
    "posterior_samples_from_network_1 = network_self.sample((100,), x = temp_observation)"
   ],
   "metadata": {
    "collapsed": false,
    "ExecuteTime": {
     "end_time": "2024-07-16T08:28:43.793093Z",
     "start_time": "2024-07-16T08:27:26.863750Z"
    }
   },
   "id": "190ea6df0e8fbfe0"
  },
  {
   "cell_type": "markdown",
   "source": [
    "Extract $(m,h)$ part "
   ],
   "metadata": {
    "collapsed": false,
    "ExecuteTime": {
     "end_time": "2023-11-12T23:56:53.953622Z",
     "start_time": "2023-11-12T23:56:53.944081Z"
    }
   },
   "id": "213b7eca9fc9ae97"
  },
  {
   "cell_type": "code",
   "execution_count": 11,
   "outputs": [
    {
     "data": {
      "text/plain": "array([[0.6012973 , 0.1993824 ],\n       [0.6022744 , 0.19510455],\n       [0.5992967 , 0.19427705],\n       [0.5976442 , 0.1943923 ],\n       [0.6039878 , 0.19722748],\n       [0.6067982 , 0.20244032],\n       [0.605785  , 0.19456343],\n       [0.6050204 , 0.19769889],\n       [0.60360533, 0.19777346],\n       [0.5991789 , 0.19778557],\n       [0.6021968 , 0.19845654],\n       [0.60500574, 0.20030484],\n       [0.60033244, 0.1961961 ],\n       [0.6053699 , 0.1983828 ],\n       [0.6075615 , 0.1914727 ],\n       [0.60653687, 0.190214  ],\n       [0.59716344, 0.20442715],\n       [0.60193133, 0.2019831 ],\n       [0.60142124, 0.19157496],\n       [0.602098  , 0.19313265],\n       [0.60362375, 0.19869864],\n       [0.58818465, 0.2017395 ],\n       [0.59917456, 0.19125363],\n       [0.5911381 , 0.19492234],\n       [0.60369873, 0.19536085],\n       [0.6093877 , 0.19587055],\n       [0.59740925, 0.19650988],\n       [0.6066767 , 0.19649652],\n       [0.5874752 , 0.19759077],\n       [0.6073222 , 0.19369978],\n       [0.6050445 , 0.19209205],\n       [0.59379035, 0.1915248 ],\n       [0.6089159 , 0.19264743],\n       [0.5987618 , 0.19581817],\n       [0.59561086, 0.20222265],\n       [0.60848033, 0.19496574],\n       [0.59880865, 0.20011406],\n       [0.60384035, 0.1984959 ],\n       [0.60872746, 0.1943357 ],\n       [0.5979619 , 0.19104825],\n       [0.6049116 , 0.19028187],\n       [0.6094533 , 0.19278532],\n       [0.5982498 , 0.19745176],\n       [0.5984496 , 0.21198437],\n       [0.5983347 , 0.2007509 ],\n       [0.6014409 , 0.19864887],\n       [0.6080288 , 0.1970324 ],\n       [0.5961778 , 0.21196276],\n       [0.59175116, 0.19966485],\n       [0.60490113, 0.19399545],\n       [0.60858476, 0.19599016],\n       [0.59910107, 0.1918667 ],\n       [0.59631133, 0.21034127],\n       [0.60414684, 0.19105807],\n       [0.6000651 , 0.19971497],\n       [0.6026256 , 0.19681314],\n       [0.6077254 , 0.19937553],\n       [0.58957183, 0.20312266],\n       [0.6009168 , 0.19603993],\n       [0.6009156 , 0.19373651],\n       [0.60799843, 0.19946109],\n       [0.60334635, 0.1909748 ],\n       [0.60727465, 0.19576183],\n       [0.594043  , 0.19900738],\n       [0.6052926 , 0.19365142],\n       [0.6020268 , 0.19346015],\n       [0.60110533, 0.2025475 ],\n       [0.5986222 , 0.19581978],\n       [0.59591436, 0.20446016],\n       [0.60957146, 0.19445373],\n       [0.6095573 , 0.19211705],\n       [0.59770465, 0.19199716],\n       [0.60322046, 0.20575193],\n       [0.6097618 , 0.19460657],\n       [0.60864794, 0.1932566 ],\n       [0.60510564, 0.19028719],\n       [0.6055447 , 0.19223827],\n       [0.5988535 , 0.19704318],\n       [0.5847481 , 0.20519371],\n       [0.6029514 , 0.19707014],\n       [0.6082951 , 0.19117732],\n       [0.6091517 , 0.19467849],\n       [0.60687757, 0.190989  ],\n       [0.5943303 , 0.19209683],\n       [0.6081337 , 0.19868882],\n       [0.6051091 , 0.19031602],\n       [0.6064276 , 0.20494927],\n       [0.60603577, 0.19630793],\n       [0.6077069 , 0.19479512],\n       [0.607483  , 0.19492684],\n       [0.60066986, 0.20291753],\n       [0.6079595 , 0.190511  ],\n       [0.6099284 , 0.1970083 ],\n       [0.60654247, 0.1924716 ],\n       [0.6072459 , 0.20181571],\n       [0.60665864, 0.19284225],\n       [0.6064861 , 0.19456159],\n       [0.5978693 , 0.19837622],\n       [0.60802555, 0.19070388],\n       [0.6050096 , 0.19437882]], dtype=float32)"
     },
     "execution_count": 11,
     "metadata": {},
     "output_type": "execute_result"
    }
   ],
   "source": [
    "pos_sample_numpy = posterior_samples_from_network_1.numpy()\n",
    "pos_sample_numpy = pos_sample_numpy[:,0:2]"
   ],
   "metadata": {
    "collapsed": false,
    "ExecuteTime": {
     "end_time": "2024-07-16T08:32:01.633047Z",
     "start_time": "2024-07-16T08:32:01.621161Z"
    }
   },
   "id": "b031b6b434f0170f"
  },
  {
   "cell_type": "markdown",
   "source": [
    "Generate pairplot"
   ],
   "metadata": {
    "collapsed": false
   },
   "id": "487ae2416661decf"
  },
  {
   "cell_type": "code",
   "execution_count": null,
   "outputs": [],
   "source": [],
   "metadata": {
    "collapsed": false
   },
   "id": "6b2e9c8dd0049e6f"
  },
  {
   "cell_type": "code",
   "execution_count": 13,
   "outputs": [
    {
     "data": {
      "text/plain": "<Figure size 600x600 with 4 Axes>",
      "image/png": "[encoded data removed]"
     },
     "metadata": {},
     "output_type": "display_data"
    }
   ],
   "source": [
    "figure = analysis.pairplot(pos_sample_numpy[:, [1, 0]], limits=[[0.15, 0.65], [0.15, 0.65], [0.15, 0.65]], figsize=(6, 6), labels=[\"h\",  \"m\"])\n",
    "# Usually, the figure object is the first element in the tuple\n",
    "fig = figure[0]\n",
    "\n",
    "# Now use the `savefig` method of the figure object to save it as an SVG\n",
    "# fig.savefig('plot.svg', format='svg')\n"
   ],
   "metadata": {
    "collapsed": false,
    "ExecuteTime": {
     "end_time": "2024-07-16T08:32:56.609147Z",
     "start_time": "2024-07-16T08:32:56.506199Z"
    }
   },
   "id": "31372c184937a8a"
  }
 ],
 "metadata": {
  "kernelspec": {
   "display_name": "Python 3",
   "language": "python",
   "name": "python3"
  },
  "language_info": {
   "codemirror_mode": {
    "name": "ipython",
    "version": 2
   },
   "file_extension": ".py",
   "mimetype": "text/x-python",
   "name": "python",
   "nbconvert_exporter": "python",
   "pygments_lexer": "ipython2",
   "version": "2.7.6"
  }
 },
 "nbformat": 4,
 "nbformat_minor": 5
}
