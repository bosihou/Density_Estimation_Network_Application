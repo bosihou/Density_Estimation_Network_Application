{
 "cells": [
  {
   "cell_type": "markdown",
   "id": "eb6c25d1714e57f0",
   "metadata": {
    "collapsed": false
   },
   "source": [
    "### Import libraries"
   ]
  },
  {
   "cell_type": "code",
   "execution_count": null,
   "id": "2a02b9b7458f58d0",
   "metadata": {
    "ExecuteTime": {
     "end_time": "2024-07-16T08:23:30.081463Z",
     "start_time": "2024-07-16T08:23:20.144384Z"
    },
    "collapsed": false
   },
   "outputs": [
    {
     "data": {
      "text/plain": [
       "<module 'DENN_utils' from '/Users/andersen/Desktop/DENN_Application/DENN_Python/DENN_utils.py'>"
      ]
     },
     "execution_count": 1,
     "metadata": {},
     "output_type": "execute_result"
    }
   ],
   "source": [
    "import torch\n",
    "import pandas as pd\n",
    "import numpy as np\n",
    "import h5py\n",
    "\n",
    "from sbi import utils as utils\n",
    "from sbi import analysis as analysis\n",
    "from sbi.inference import infer\n",
    "\n",
    "import pickle\n",
    "from random import Random\n",
    "\n",
    "import DENN_utils\n",
    "from DENN_utils import *\n",
    "\n",
    "\n",
    "\n",
    "\n",
    "import importlib\n",
    "importlib.reload(DENN_utils)"
   ]
  },
  {
   "cell_type": "markdown",
   "id": "b36c33e621994ff3",
   "metadata": {
    "ExecuteTime": {
     "end_time": "2023-11-12T23:57:17.376068Z",
     "start_time": "2023-11-12T23:57:17.371677Z"
    },
    "collapsed": false
   },
   "source": [
    "### 1. Load Rosenzweig-Macarthur Simulation data"
   ]
  },
  {
   "cell_type": "code",
   "execution_count": 2,
   "id": "da4830d9e46ef909",
   "metadata": {
    "ExecuteTime": {
     "end_time": "2024-07-16T08:23:51.434465Z",
     "start_time": "2024-07-16T08:23:51.393491Z"
    },
    "collapsed": false
   },
   "outputs": [],
   "source": [
    "filepath = '../R-M data/final_output.mat'\n",
    "full_data = get_RM_full_data(filepath)"
   ]
  },
  {
   "cell_type": "markdown",
   "id": "5a9d705f36104331",
   "metadata": {
    "ExecuteTime": {
     "end_time": "2023-11-12T23:57:18.872741Z",
     "start_time": "2023-11-12T23:57:18.854705Z"
    },
    "collapsed": false
   },
   "source": [
    "### 2. Specify prior"
   ]
  },
  {
   "cell_type": "code",
   "execution_count": 3,
   "id": "9d9b80393136f0c8",
   "metadata": {
    "ExecuteTime": {
     "end_time": "2024-07-16T08:24:01.132728Z",
     "start_time": "2024-07-16T08:24:01.123900Z"
    },
    "collapsed": false
   },
   "outputs": [],
   "source": [
    "num_dim = 2\n",
    "uniform_prior = utils.BoxUniform(low = 0.19 * torch.ones(num_dim), high = 0.61 * torch.ones(num_dim))"
   ]
  },
  {
   "cell_type": "markdown",
   "id": "b89bbd8e9aaafb9f",
   "metadata": {
    "ExecuteTime": {
     "end_time": "2023-11-12T23:57:19.775544Z",
     "start_time": "2023-11-12T23:57:19.772101Z"
    },
    "collapsed": false
   },
   "source": [
    "Two notes: \n",
    "1. As the data reflects a discretized $(m,h)$ space with grid size of 0.02, the box-uniform support is to take care of edge value\n",
    "2. As we only use the lower left triangle regime, we will symmetrically map the grids on the box uniform. For posterior data analysis, it will be re-mapped back"
   ]
  },
  {
   "cell_type": "markdown",
   "id": "dceceb9d2008cd9e",
   "metadata": {
    "collapsed": false
   },
   "source": [
    "### 3. Specify simulator"
   ]
  },
  {
   "cell_type": "code",
   "execution_count": 4,
   "id": "d027dc09e36a920d",
   "metadata": {
    "ExecuteTime": {
     "end_time": "2024-07-16T08:24:03.389540Z",
     "start_time": "2024-07-16T08:24:03.378353Z"
    },
    "collapsed": false
   },
   "outputs": [
    {
     "name": "stdout",
     "output_type": "stream",
     "text": [
      "tensor([ 0.9127,  0.5580, 40.1500], dtype=torch.float64)\n"
     ]
    }
   ],
   "source": [
    "test_parameter_sample = torch.tensor([0.2, 0.2])\n",
    "test_sim_data = ODE_simulator_on_fine_grids(test_parameter_sample)\n",
    "print(test_sim_data)"
   ]
  },
  {
   "cell_type": "markdown",
   "id": "a65177cdb04ce642",
   "metadata": {
    "ExecuteTime": {
     "end_time": "2023-11-12T23:57:29.988427Z",
     "start_time": "2023-11-12T23:57:28.508665Z"
    },
    "collapsed": false
   },
   "source": [
    "This is a test usage of R-M data simulator. `ODE_simulator_on_fine_grids` is implemented in `DENN_utils`. It is designed to be used out-of-box."
   ]
  },
  {
   "cell_type": "markdown",
   "id": "9b19e49b292ac957",
   "metadata": {
    "collapsed": false
   },
   "source": [
    "### 4. Train a network using SNLE"
   ]
  },
  {
   "cell_type": "code",
   "execution_count": 5,
   "id": "c731716c016b7f50",
   "metadata": {
    "ExecuteTime": {
     "end_time": "2024-07-16T08:26:50.063239Z",
     "start_time": "2024-07-16T08:24:58.853938Z"
    },
    "collapsed": false
   },
   "outputs": [
    {
     "data": {
      "application/vnd.jupyter.widget-view+json": {
       "model_id": "3b0f5454f2a84eeea97e06958f684b07",
       "version_major": 2,
       "version_minor": 0
      },
      "text/plain": [
       "Running 25000 simulations.:   0%|          | 0/25000 [00:00<?, ?it/s]"
      ]
     },
     "metadata": {},
     "output_type": "display_data"
    },
    {
     "name": "stdout",
     "output_type": "stream",
     "text": [
      " Neural network successfully converged after 86 epochs."
     ]
    }
   ],
   "source": [
    "num_of_sim = 25000\n",
    "network_self = infer(ODE_simulator_on_fine_grids, uniform_prior, method = \"SNLE\", num_simulations = num_of_sim)"
   ]
  },
  {
   "cell_type": "markdown",
   "id": "c25e819357744292",
   "metadata": {
    "collapsed": false
   },
   "source": [
    "### 4.1 Test memory use"
   ]
  },
  {
   "cell_type": "code",
   "execution_count": 15,
   "id": "11a4e0a2d2b37751",
   "metadata": {
    "ExecuteTime": {
     "end_time": "2024-07-16T08:39:11.516132Z",
     "start_time": "2024-07-16T08:39:10.876570Z"
    },
    "collapsed": false
   },
   "outputs": [
    {
     "data": {
      "application/vnd.jupyter.widget-view+json": {
       "model_id": "8214a1baf1a643d48bf455627b86bd2c",
       "version_major": 2,
       "version_minor": 0
      },
      "text/plain": [
       "Running 50 simulations.:   0%|          | 0/50 [00:00<?, ?it/s]"
      ]
     },
     "metadata": {},
     "output_type": "display_data"
    },
    {
     "name": "stdout",
     "output_type": "stream",
     "text": [
      " Neural network successfully converged after 138 epochs.Memory used: 4.515625 MB\n"
     ]
    }
   ],
   "source": [
    "import psutil\n",
    "\n",
    "def check_memory():\n",
    "    process = psutil.Process()\n",
    "    return process.memory_info().rss / (1024 * 1024)\n",
    "\n",
    "memory_before = check_memory()\n",
    "### Start your code\n",
    "num_of_sim = 50\n",
    "network_self = infer(ODE_simulator_on_fine_grids, uniform_prior, method = \"SNLE\", num_simulations = num_of_sim)\n",
    "\n",
    "\n",
    "### End your code\n",
    "memory_after = check_memory()\n",
    "\n",
    "print(f\"Memory used: {memory_after - memory_before} MB\")\n"
   ]
  },
  {
   "cell_type": "markdown",
   "id": "77d0803426ec2658",
   "metadata": {
    "ExecuteTime": {
     "end_time": "2023-11-12T23:56:39.877416Z",
     "start_time": "2023-11-12T23:56:36.832611Z"
    },
    "collapsed": false
   },
   "source": [
    "### 5. Save the network using pickle"
   ]
  },
  {
   "cell_type": "code",
   "execution_count": 6,
   "id": "8300702837326dd5",
   "metadata": {
    "ExecuteTime": {
     "end_time": "2024-07-16T08:27:09.266115Z",
     "start_time": "2024-07-16T08:27:09.250863Z"
    },
    "collapsed": false
   },
   "outputs": [],
   "source": [
    "save_to_pickle(network_self, 'network_self_pickle')"
   ]
  },
  {
   "cell_type": "markdown",
   "id": "41e1f657763522db",
   "metadata": {
    "collapsed": false
   },
   "source": [
    "If you don't want to train the network every time, you can save it using pickle. Note that this is more suitable for short-term storage. For long term storage, consider using JSON"
   ]
  },
  {
   "cell_type": "markdown",
   "id": "640757c83524d2cf",
   "metadata": {
    "collapsed": false
   },
   "source": [
    "### 6. Load the network"
   ]
  },
  {
   "cell_type": "code",
   "execution_count": 7,
   "id": "2d805edf4df4691a",
   "metadata": {
    "ExecuteTime": {
     "end_time": "2024-07-16T08:27:12.006638Z",
     "start_time": "2024-07-16T08:27:11.999210Z"
    },
    "collapsed": false
   },
   "outputs": [],
   "source": [
    "network_self = load_from_pickle('network_self_pickle')"
   ]
  },
  {
   "cell_type": "markdown",
   "id": "8b113272fb35e31f",
   "metadata": {
    "collapsed": false
   },
   "source": [
    "### 7. Test network performance"
   ]
  },
  {
   "cell_type": "markdown",
   "id": "7d3c3de81cb265ba",
   "metadata": {
    "collapsed": false
   },
   "source": [
    "We use $[X_{amp}, Y_{amp}, T]$ data from $(m,h) = (0.6, 0.2)$ to evaluate the performance"
   ]
  },
  {
   "cell_type": "code",
   "execution_count": 8,
   "id": "692f248a9eb5ffa1",
   "metadata": {
    "ExecuteTime": {
     "end_time": "2024-07-16T08:27:22.644244Z",
     "start_time": "2024-07-16T08:27:22.637817Z"
    },
    "collapsed": false
   },
   "outputs": [],
   "source": [
    "test_data = full_data[20,0,:,:]\n",
    "num_of_observations = 20\n",
    "temp_observation = get_sample(test_data, num_of_observations)"
   ]
  },
  {
   "cell_type": "markdown",
   "id": "30c9998a8910123b",
   "metadata": {
    "ExecuteTime": {
     "end_time": "2023-11-12T23:56:51.617908Z",
     "start_time": "2023-11-12T23:56:51.611012Z"
    },
    "collapsed": false
   },
   "source": [
    "Then we use the network to perform density estimation. This process should yield a posterior sample given observation data"
   ]
  },
  {
   "cell_type": "code",
   "execution_count": 9,
   "id": "190ea6df0e8fbfe0",
   "metadata": {
    "ExecuteTime": {
     "end_time": "2024-07-16T08:28:43.793093Z",
     "start_time": "2024-07-16T08:27:26.863750Z"
    },
    "collapsed": false
   },
   "outputs": [
    {
     "name": "stderr",
     "output_type": "stream",
     "text": [
      "/Users/andersen/miniconda3/lib/python3.11/site-packages/sbi/utils/sbiutils.py:316: UserWarning: An x with a batch size of 20 was passed. It will be interpreted as a batch of independent and identically\n",
      "            distributed data X={x_1, ..., x_n}, i.e., data generated based on the\n",
      "            same underlying (unknown) parameter. The resulting posterior will be with\n",
      "            respect to entire batch, i.e,. p(theta | X).\n",
      "  warnings.warn(\n"
     ]
    },
    {
     "data": {
      "application/vnd.jupyter.widget-view+json": {
       "model_id": "76c6b07e8f2147fb9550eef452ddd74c",
       "version_major": 2,
       "version_minor": 0
      },
      "text/plain": [
       "  0%|          | 0/50 [00:00<?, ?it/s]"
      ]
     },
     "metadata": {},
     "output_type": "display_data"
    },
    {
     "data": {
      "application/vnd.jupyter.widget-view+json": {
       "model_id": "7ea682b6e4a84d109033baee9f8877df",
       "version_major": 2,
       "version_minor": 0
      },
      "text/plain": [
       "  0%|          | 0/1100 [00:00<?, ?it/s]"
      ]
     },
     "metadata": {},
     "output_type": "display_data"
    }
   ],
   "source": [
    "posterior_samples_from_network_1 = network_self.sample((100,), x = temp_observation)"
   ]
  },
  {
   "cell_type": "markdown",
   "id": "213b7eca9fc9ae97",
   "metadata": {
    "ExecuteTime": {
     "end_time": "2023-11-12T23:56:53.953622Z",
     "start_time": "2023-11-12T23:56:53.944081Z"
    },
    "collapsed": false
   },
   "source": [
    "Extract $(m,h)$ part "
   ]
  },
  {
   "cell_type": "code",
   "execution_count": 14,
   "id": "b031b6b434f0170f",
   "metadata": {
    "ExecuteTime": {
     "end_time": "2024-07-16T08:34:44.058012Z",
     "start_time": "2024-07-16T08:34:44.049580Z"
    },
    "collapsed": false
   },
   "outputs": [],
   "source": [
    "pos_sample_numpy = posterior_samples_from_network_1.numpy()\n",
    "pos_sample_numpy = pos_sample_numpy[:,0:2]"
   ]
  },
  {
   "cell_type": "markdown",
   "id": "487ae2416661decf",
   "metadata": {
    "collapsed": false
   },
   "source": [
    "Generate pairplot"
   ]
  },
  {
   "cell_type": "code",
   "execution_count": 13,
   "id": "31372c184937a8a",
   "metadata": {
    "ExecuteTime": {
     "end_time": "2024-07-16T08:32:56.609147Z",
     "start_time": "2024-07-16T08:32:56.506199Z"
    },
    "collapsed": false
   },
   "outputs": [
    {
     "data": {
      "image/png": "[encoded data removed]",
      "text/plain": [
       "<Figure size 600x600 with 4 Axes>"
      ]
     },
     "metadata": {},
     "output_type": "display_data"
    }
   ],
   "source": [
    "figure = analysis.pairplot(pos_sample_numpy[:, [1, 0]], limits=[[0.15, 0.65], [0.15, 0.65], [0.15, 0.65]], figsize=(6, 6), labels=[\"h\",  \"m\"])\n",
    "# Usually, the figure object is the first element in the tuple\n",
    "fig = figure[0]\n",
    "\n",
    "# Now use the `savefig` method of the figure object to save it as an SVG\n",
    "# fig.savefig('plot.svg', format='svg')\n"
   ]
  }
 ],
 "metadata": {
  "kernelspec": {
   "display_name": "Python 3",
   "language": "python",
   "name": "python3"
  },
  "language_info": {
   "codemirror_mode": {
    "name": "ipython",
    "version": 2
   },
   "file_extension": ".py",
   "mimetype": "text/x-python",
   "name": "python",
   "nbconvert_exporter": "python",
   "pygments_lexer": "ipython2",
   "version": "2.7.6"
  }
 },
 "nbformat": 4,
 "nbformat_minor": 5
}
