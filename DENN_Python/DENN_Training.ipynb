{
 "cells": [
  {
   "cell_type": "code",
   "execution_count": 9,
   "outputs": [
    {
     "name": "stdout",
     "output_type": "stream",
     "text": [
      "tensor([ 0.9574,  0.5791, 47.6200], dtype=torch.float64)\n"
     ]
    },
    {
     "data": {
      "text/plain": "<module 'DENN_utils' from '/Users/andersen/Desktop/DENN_Application/DENN Coding files/DENN_utils.py'>"
     },
     "execution_count": 9,
     "metadata": {},
     "output_type": "execute_result"
    }
   ],
   "source": [
    "import torch\n",
    "import pandas as pd\n",
    "import numpy as np\n",
    "import h5py\n",
    "\n",
    "from sbi import utils as utils\n",
    "from sbi import analysis as analysis\n",
    "from sbi.inference.base import infer\n",
    "\n",
    "import pickle\n",
    "from random import Random\n",
    "\n",
    "import DENN_utils\n",
    "from DENN_utils import *\n",
    "\n",
    "\n",
    "\n",
    "\n",
    "import importlib\n",
    "importlib.reload(DENN_utils)"
   ],
   "metadata": {
    "collapsed": false,
    "ExecuteTime": {
     "end_time": "2023-11-25T23:48:55.668482Z",
     "start_time": "2023-11-25T23:48:54.157985Z"
    }
   },
   "id": "2a02b9b7458f58d0"
  },
  {
   "cell_type": "markdown",
   "source": [
    "### 1. Load Rosenzweig-Macarthur Simulation data"
   ],
   "metadata": {
    "collapsed": false,
    "ExecuteTime": {
     "end_time": "2023-11-12T23:57:17.376068Z",
     "start_time": "2023-11-12T23:57:17.371677Z"
    }
   },
   "id": "b36c33e621994ff3"
  },
  {
   "cell_type": "code",
   "execution_count": 2,
   "outputs": [],
   "source": [
    "filepath = '../R-M data/final_output.mat'\n",
    "full_data = get_RM_full_data(filepath)"
   ],
   "metadata": {
    "collapsed": false,
    "ExecuteTime": {
     "end_time": "2023-11-25T23:45:23.104239Z",
     "start_time": "2023-11-25T23:45:23.084895Z"
    }
   },
   "id": "da4830d9e46ef909"
  },
  {
   "cell_type": "markdown",
   "source": [
    "### 2. Specify prior"
   ],
   "metadata": {
    "collapsed": false,
    "ExecuteTime": {
     "end_time": "2023-11-12T23:57:18.872741Z",
     "start_time": "2023-11-12T23:57:18.854705Z"
    }
   },
   "id": "5a9d705f36104331"
  },
  {
   "cell_type": "code",
   "execution_count": 3,
   "outputs": [],
   "source": [
    "num_dim = 2\n",
    "uniform_prior = utils.BoxUniform(low = 0.19 * torch.ones(num_dim), high = 0.61 * torch.ones(num_dim))"
   ],
   "metadata": {
    "collapsed": false,
    "ExecuteTime": {
     "end_time": "2023-11-25T23:45:24.805557Z",
     "start_time": "2023-11-25T23:45:24.801694Z"
    }
   },
   "id": "9d9b80393136f0c8"
  },
  {
   "cell_type": "markdown",
   "source": [
    "Two notes: \n",
    "1. As the data reflects a discretized $(m,h)$ space with grid size of 0.02, the box-uniform support is to take care of edge value\n",
    "2. As we only use the lower left triangle regime, we will symmetrically map the grids on the box uniform. For posterior data analysis, it will be re-mapped back"
   ],
   "metadata": {
    "collapsed": false,
    "ExecuteTime": {
     "end_time": "2023-11-12T23:57:19.775544Z",
     "start_time": "2023-11-12T23:57:19.772101Z"
    }
   },
   "id": "b89bbd8e9aaafb9f"
  },
  {
   "cell_type": "markdown",
   "source": [
    "### 3. Specify simulator"
   ],
   "metadata": {
    "collapsed": false
   },
   "id": "dceceb9d2008cd9e"
  },
  {
   "cell_type": "code",
   "execution_count": 6,
   "outputs": [
    {
     "name": "stdout",
     "output_type": "stream",
     "text": [
      "tensor([ 0.9617,  0.6409, 47.9500], dtype=torch.float64)\n"
     ]
    }
   ],
   "source": [
    "test_parameter_sample = torch.tensor([0.2, 0.2])\n",
    "test_sim_data = ODE_simulator_on_fine_grids(test_parameter_sample)\n",
    "print(test_sim_data)"
   ],
   "metadata": {
    "collapsed": false,
    "ExecuteTime": {
     "end_time": "2023-11-25T23:46:00.447482Z",
     "start_time": "2023-11-25T23:46:00.443414Z"
    }
   },
   "id": "d027dc09e36a920d"
  },
  {
   "cell_type": "markdown",
   "source": [
    "This is a test usage of R-M data simulator. `ODE_simulator_on_fine_grids` is implemented in `DENN_utils`. It is designed to be used out-of-box."
   ],
   "metadata": {
    "collapsed": false,
    "ExecuteTime": {
     "end_time": "2023-11-12T23:57:29.988427Z",
     "start_time": "2023-11-12T23:57:28.508665Z"
    }
   },
   "id": "a65177cdb04ce642"
  },
  {
   "cell_type": "markdown",
   "source": [
    "### 4. Train a network using SNLE"
   ],
   "metadata": {
    "collapsed": false
   },
   "id": "9b19e49b292ac957"
  },
  {
   "cell_type": "code",
   "execution_count": null,
   "outputs": [],
   "source": [
    "num_of_sim = 10000\n",
    "network_self = infer(ODE_simulator_on_fine_grids, uniform_prior, method = \"SNLE\", num_simulations = num_of_sim)"
   ],
   "metadata": {
    "collapsed": false
   },
   "id": "c731716c016b7f50"
  },
  {
   "cell_type": "markdown",
   "source": [
    "### 4.1 Test memory use"
   ],
   "metadata": {
    "collapsed": false
   },
   "id": "c25e819357744292"
  },
  {
   "cell_type": "code",
   "execution_count": 38,
   "outputs": [
    {
     "data": {
      "text/plain": "Running 50 simulations.:   0%|          | 0/50 [00:00<?, ?it/s]",
      "application/vnd.jupyter.widget-view+json": {
       "version_major": 2,
       "version_minor": 0,
       "model_id": "bd039d8ea6424aa5861d7e84430e62b7"
      }
     },
     "metadata": {},
     "output_type": "display_data"
    },
    {
     "name": "stdout",
     "output_type": "stream",
     "text": [
      " Neural network successfully converged after 134 epochs.Memory used: 0.953125 MB\n"
     ]
    }
   ],
   "source": [
    "import psutil\n",
    "\n",
    "def check_memory():\n",
    "    process = psutil.Process()\n",
    "    return process.memory_info().rss / (1024 * 1024)\n",
    "\n",
    "memory_before = check_memory()\n",
    "### Start your code\n",
    "num_of_sim = 50\n",
    "network_self = infer(ODE_simulator_embedded, uniform_prior, method = \"SNLE\", num_simulations = num_of_sim)\n",
    "\n",
    "\n",
    "### End your code\n",
    "memory_after = check_memory()\n",
    "\n",
    "print(f\"Memory used: {memory_after - memory_before} MB\")\n"
   ],
   "metadata": {
    "collapsed": false,
    "ExecuteTime": {
     "end_time": "2023-11-26T00:34:10.977763Z",
     "start_time": "2023-11-26T00:32:54.437908Z"
    }
   },
   "id": "11a4e0a2d2b37751"
  },
  {
   "cell_type": "markdown",
   "source": [
    "### 5. Save the network using pickle"
   ],
   "metadata": {
    "collapsed": false,
    "ExecuteTime": {
     "end_time": "2023-11-12T23:56:39.877416Z",
     "start_time": "2023-11-12T23:56:36.832611Z"
    }
   },
   "id": "77d0803426ec2658"
  },
  {
   "cell_type": "code",
   "execution_count": 17,
   "outputs": [],
   "source": [
    "save_to_pickle(network_self, 'network_self_pickle')"
   ],
   "metadata": {
    "collapsed": false,
    "ExecuteTime": {
     "end_time": "2023-10-22T21:05:54.333144Z",
     "start_time": "2023-10-22T21:05:54.314359Z"
    }
   },
   "id": "8300702837326dd5"
  },
  {
   "cell_type": "markdown",
   "source": [
    "If you don't want to train the network every time, you can save it using pickle. Note that this is more suitable for short-term storage. For long term storage, consider using JSON"
   ],
   "metadata": {
    "collapsed": false
   },
   "id": "41e1f657763522db"
  },
  {
   "cell_type": "markdown",
   "source": [
    "### 6. Load the network"
   ],
   "metadata": {
    "collapsed": false
   },
   "id": "640757c83524d2cf"
  },
  {
   "cell_type": "code",
   "execution_count": 9,
   "outputs": [],
   "source": [
    "network_self = load_from_pickle('network_self_pickle')"
   ],
   "metadata": {
    "collapsed": false,
    "ExecuteTime": {
     "end_time": "2023-10-22T21:34:23.460333Z",
     "start_time": "2023-10-22T21:34:23.447886Z"
    }
   },
   "id": "2d805edf4df4691a"
  },
  {
   "cell_type": "markdown",
   "source": [
    "### 7. Test network performance"
   ],
   "metadata": {
    "collapsed": false
   },
   "id": "8b113272fb35e31f"
  },
  {
   "cell_type": "markdown",
   "source": [
    "We use $[X_{amp}, Y_{amp}, T]$ data from $(m,h) = (0.6, 0.2)$ to evaluate the performance"
   ],
   "metadata": {
    "collapsed": false
   },
   "id": "7d3c3de81cb265ba"
  },
  {
   "cell_type": "code",
   "execution_count": 6,
   "outputs": [],
   "source": [
    "test_data_0206 = full_data[20,0,:,:]\n",
    "num_of_observations = 20\n",
    "temp_observation = get_sample(test_data_0206, 20)"
   ],
   "metadata": {
    "collapsed": false,
    "ExecuteTime": {
     "end_time": "2023-11-04T19:43:38.214124Z",
     "start_time": "2023-11-04T19:43:38.207525Z"
    }
   },
   "id": "692f248a9eb5ffa1"
  },
  {
   "cell_type": "markdown",
   "source": [
    "Then we use the network to perform density estimation. This process should yield a posterior sample given observation data"
   ],
   "metadata": {
    "collapsed": false,
    "ExecuteTime": {
     "end_time": "2023-11-12T23:56:51.617908Z",
     "start_time": "2023-11-12T23:56:51.611012Z"
    }
   },
   "id": "30c9998a8910123b"
  },
  {
   "cell_type": "code",
   "execution_count": 7,
   "outputs": [
    {
     "name": "stderr",
     "output_type": "stream",
     "text": [
      "/Users/andersen/miniconda3/lib/python3.11/site-packages/sbi/utils/sbiutils.py:316: UserWarning: An x with a batch size of 20 was passed. It will be interpreted as a batch of independent and identically\n",
      "            distributed data X={x_1, ..., x_n}, i.e., data generated based on the\n",
      "            same underlying (unknown) parameter. The resulting posterior will be with\n",
      "            respect to entire batch, i.e,. p(theta | X).\n",
      "  warnings.warn(\n"
     ]
    },
    {
     "data": {
      "text/plain": "  0%|          | 0/50 [00:00<?, ?it/s]",
      "application/vnd.jupyter.widget-view+json": {
       "version_major": 2,
       "version_minor": 0,
       "model_id": "b918e045e3dd4d8cb4e283af2598e0cb"
      }
     },
     "metadata": {},
     "output_type": "display_data"
    },
    {
     "data": {
      "text/plain": "  0%|          | 0/2100 [00:00<?, ?it/s]",
      "application/vnd.jupyter.widget-view+json": {
       "version_major": 2,
       "version_minor": 0,
       "model_id": "e890d193279a40968fa2175a2c9ed5a5"
      }
     },
     "metadata": {},
     "output_type": "display_data"
    }
   ],
   "source": [
    "posterior_samples_from_network_1 = network_self.sample((200,), x = temp_observation)"
   ],
   "metadata": {
    "collapsed": false,
    "ExecuteTime": {
     "end_time": "2023-11-04T19:45:52.119043Z",
     "start_time": "2023-11-04T19:43:39.692362Z"
    }
   },
   "id": "190ea6df0e8fbfe0"
  },
  {
   "cell_type": "markdown",
   "source": [
    "Extract $(m,h)$ part "
   ],
   "metadata": {
    "collapsed": false,
    "ExecuteTime": {
     "end_time": "2023-11-12T23:56:53.953622Z",
     "start_time": "2023-11-12T23:56:53.944081Z"
    }
   },
   "id": "213b7eca9fc9ae97"
  },
  {
   "cell_type": "code",
   "execution_count": 13,
   "outputs": [],
   "source": [
    "pos_sample_numpy = posterior_samples_from_network_1.numpy()\n",
    "pos_sample_numpy = pos_sample_numpy[:,0:2]"
   ],
   "metadata": {
    "collapsed": false,
    "ExecuteTime": {
     "end_time": "2023-11-04T21:41:30.918130Z",
     "start_time": "2023-11-04T21:41:30.911564Z"
    }
   },
   "id": "b031b6b434f0170f"
  },
  {
   "cell_type": "markdown",
   "source": [
    "Generate pairplot"
   ],
   "metadata": {
    "collapsed": false
   },
   "id": "487ae2416661decf"
  },
  {
   "cell_type": "code",
   "execution_count": 15,
   "outputs": [
    {
     "data": {
      "text/plain": "<Figure size 600x600 with 4 Axes>",
      "image/png": "[encoded data removed]"
     },
     "metadata": {},
     "output_type": "display_data"
    }
   ],
   "source": [
    "figure_0206 = analysis.pairplot(pos_sample_numpy, limits=[[0.15, 0.65], [0.15, 0.65]], figsize=(6, 6))\n",
    "# Usually, the figure object is the first element in the tuple\n",
    "fig = figure_0206[0]\n",
    "\n",
    "# Now use the `savefig` method of the figure object to save it as an SVG\n",
    "fig.savefig('plot.svg', format='svg')\n"
   ],
   "metadata": {
    "collapsed": false,
    "ExecuteTime": {
     "end_time": "2023-11-04T21:44:43.152761Z",
     "start_time": "2023-11-04T21:44:43.029337Z"
    }
   },
   "id": "31372c184937a8a"
  },
  {
   "cell_type": "code",
   "execution_count": null,
   "outputs": [],
   "source": [],
   "metadata": {
    "collapsed": false
   },
   "id": "2bd0cf32dcbc7bcc"
  }
 ],
 "metadata": {
  "kernelspec": {
   "display_name": "Python 3",
   "language": "python",
   "name": "python3"
  },
  "language_info": {
   "codemirror_mode": {
    "name": "ipython",
    "version": 2
   },
   "file_extension": ".py",
   "mimetype": "text/x-python",
   "name": "python",
   "nbconvert_exporter": "python",
   "pygments_lexer": "ipython2",
   "version": "2.7.6"
  }
 },
 "nbformat": 4,
 "nbformat_minor": 5
}
