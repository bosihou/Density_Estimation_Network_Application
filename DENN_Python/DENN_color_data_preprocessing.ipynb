{
 "cells": [
  {
   "cell_type": "code",
   "execution_count": 1,
   "outputs": [],
   "source": [
    "import torch\n",
    "from sbi import utils as utils\n",
    "from sbi import analysis as analysis\n",
    "from sbi.inference.base import infer\n",
    "import pickle\n",
    "import pandas as pd\n",
    "import numpy as np\n",
    "\n",
    "from random import Random\n",
    "import matplotlib.pyplot as plt"
   ],
   "metadata": {
    "collapsed": false
   }
  },
  {
   "cell_type": "markdown",
   "source": [
    "### Un-pickle the data (reduced) version"
   ],
   "metadata": {
    "collapsed": false
   }
  },
  {
   "cell_type": "code",
   "execution_count": 15,
   "outputs": [],
   "source": [
    "with open('posterior_data_matrix_small_gap.pickle', 'rb') as file:\n",
    "    posterior_data_matrix = pickle.load(file)"
   ],
   "metadata": {
    "collapsed": false
   }
  },
  {
   "cell_type": "code",
   "execution_count": 19,
   "outputs": [
    {
     "name": "stdout",
     "output_type": "stream",
     "text": [
      "0.18621831387281418\n",
      "0.165994793176651\n",
      "\n",
      "\n",
      "0.18805979937314987\n",
      "0.30542394518852234\n",
      "\n",
      "\n",
      "0.17406060546636581\n",
      "0.41768302023410797\n",
      "\n",
      "\n",
      "0.16430174559354782\n",
      "0.49376992881298065\n",
      "\n",
      "\n",
      "0.1903824806213379\n",
      "0.6072010695934296\n",
      "\n",
      "\n",
      "0.31082983314991\n",
      "0.16767898947000504\n",
      "\n",
      "\n",
      "0.31120086014270787\n",
      "0.29860394001007085\n",
      "\n",
      "\n",
      "0.2959586560726166\n",
      "0.3935948938131333\n",
      "\n",
      "\n",
      "0.3008865714073181\n",
      "0.4951385110616684\n",
      "\n",
      "\n",
      "0.40554668307304387\n",
      "0.19463585615158085\n",
      "\n",
      "\n",
      "0.391966986656189\n",
      "0.3032556056976319\n",
      "\n",
      "\n",
      "0.41613560914993286\n",
      "0.40156784653663635\n",
      "\n",
      "\n",
      "0.48951534926891327\n",
      "0.1822582706809044\n",
      "\n",
      "\n",
      "0.4919494539499283\n",
      "0.31160877645015717\n",
      "\n",
      "\n",
      "0.6217215359210968\n",
      "0.17733005434274673\n"
     ]
    }
   ],
   "source": [
    "def isMirroring(med_value, true_value):\n",
    "    return abs(med_value - true_value) > 0.05\n",
    "\n",
    "for i in range(5):\n",
    "    for j in range(5):\n",
    "        if i + j > 4:\n",
    "            break\n",
    "\n",
    "        curr_m_h = np.zeros((100,3))\n",
    "\n",
    "        curr_true_m = 0.2 + 0.1 * i\n",
    "        curr_true_h = 0.2 + 0.1 * j\n",
    "        curr_m_median = np.median(posterior_data_matrix[i,j,:,0])\n",
    "        curr_h_median = np.median(posterior_data_matrix[i,j,:,1])\n",
    "        if isMirroring(curr_m_median, curr_true_m) or isMirroring(curr_h_median, curr_true_h):\n",
    "            curr_m_h[:, 0] = 0.8 - posterior_data_matrix[i,j,:,1]\n",
    "            curr_m_h[:, 1] = 0.8 - posterior_data_matrix[i,j,:,0]\n",
    "            curr_m_h[:, 2] = posterior_data_matrix[i,j,:,2]\n",
    "            posterior_data_matrix[i,j,:,:] = curr_m_h\n",
    "\n",
    "\n",
    "\n",
    "\n",
    "# for i in range(5):\n",
    "#     for j in range(5):\n",
    "#         if i + j > 4:\n",
    "#             break\n",
    "#         print(np.median(posterior_data_matrix[i,j,:,0]))\n",
    "#         print(np.median(posterior_data_matrix[i,j,:,1]))\n",
    "#         print(\"\\n\")"
   ],
   "metadata": {
    "collapsed": false
   }
  },
  {
   "cell_type": "markdown",
   "source": [
    "### Define helper functions"
   ],
   "metadata": {
    "collapsed": false
   }
  },
  {
   "cell_type": "code",
   "execution_count": 20,
   "outputs": [],
   "source": [
    "def get_95_quantile(numpy_array):\n",
    "    return np.percentile(numpy_array, 95)\n",
    "\n",
    "\n",
    "def get_05_quantile(numpy_array):\n",
    "    return np.percentile(numpy_array, 5)\n",
    "\n",
    "\n",
    "def get_flag(quantile_05, quantile_95, true_value):\n",
    "    if quantile_05 > true_value or quantile_95 < true_value:\n",
    "        return 1\n",
    "    else:\n",
    "        return 0\n",
    "\n",
    "\n"
   ],
   "metadata": {
    "collapsed": false
   }
  },
  {
   "cell_type": "markdown",
   "source": [
    "### Process plot data"
   ],
   "metadata": {
    "collapsed": false
   }
  },
  {
   "cell_type": "code",
   "execution_count": 25,
   "outputs": [],
   "source": [
    "graph_data_matrix = np.zeros((2, 3, 5, 5))\n",
    "\n",
    "for i in range(5):\n",
    "    for j in range(5):\n",
    "        if i + j > 4:\n",
    "            break\n",
    "        for para_index in range(2):\n",
    "\n",
    "            posterior_para_array = posterior_data_matrix[i, j, :, para_index]  # para_index: 0-m, 1-h\n",
    "            quantile_95 = get_95_quantile(posterior_para_array)\n",
    "            quantile_05 = get_05_quantile(posterior_para_array)\n",
    "\n",
    "            CI_width = quantile_95 - quantile_05  # C.I\n",
    "\n",
    "            if para_index == 0:\n",
    "                true_para = 0.2 + 0.1 * i\n",
    "            else:\n",
    "                true_para = 0.2 + 0.1 * j\n",
    "            flag = get_flag(quantile_05, quantile_95, true_para)  # flag\n",
    "\n",
    "            para_median = np.median(posterior_para_array)\n",
    "            RE_in_percentage = abs(para_median - true_para) / true_para * 100  # R.E.\n",
    "\n",
    "            graph_data_matrix[para_index, 0, i, j] = CI_width\n",
    "            graph_data_matrix[para_index, 1, i, j] = flag\n",
    "            graph_data_matrix[para_index, 2, i, j] = RE_in_percentage\n",
    "\n",
    "\n",
    "\n"
   ],
   "metadata": {
    "collapsed": false
   }
  },
  {
   "cell_type": "markdown",
   "source": [
    "### Transform"
   ],
   "metadata": {
    "collapsed": false
   }
  },
  {
   "cell_type": "code",
   "execution_count": 34,
   "outputs": [
    {
     "name": "stdout",
     "output_type": "stream",
     "text": [
      "[[0.04933085 0.04672852 0.04976956 0.03679993 0.05758943]\n",
      " [0.03052193 0.02875165 0.0283004  0.03620257 0.        ]\n",
      " [0.02746774 0.02610962 0.03365858 0.         0.        ]\n",
      " [0.03323594 0.04761307 0.         0.         0.        ]\n",
      " [0.04896506 0.         0.         0.         0.        ]]\n",
      "[[0.04896506 0.         0.         0.         0.        ]\n",
      " [0.03323594 0.04761307 0.         0.         0.        ]\n",
      " [0.02746774 0.02610962 0.03365858 0.         0.        ]\n",
      " [0.03052193 0.02875165 0.0283004  0.03620257 0.        ]\n",
      " [0.04933085 0.04672852 0.04976956 0.03679993 0.05758943]]\n"
     ]
    }
   ],
   "source": [
    "graph_data_matrix1 = np.zeros((2, 3, 5, 5))\n",
    "\n",
    "for i in range(2):\n",
    "    for j in range(3):\n",
    "        for p in range(5):\n",
    "            for q in range(5):\n",
    "                graph_data_matrix1[i,j, 4-p, q] = graph_data_matrix[i,j, p, q]\n"
   ],
   "metadata": {
    "collapsed": false
   }
  },
  {
   "cell_type": "code",
   "execution_count": 36,
   "outputs": [],
   "source": [
    "\n",
    "from scipy import io\n",
    "\n",
    "\n",
    "# 保存为.mat文件\n",
    "io.savemat('graph_data_matrix1.mat', {'array': graph_data_matrix1})\n"
   ],
   "metadata": {
    "collapsed": false
   }
  },
  {
   "cell_type": "markdown",
   "source": [
    "### Color plots"
   ],
   "metadata": {
    "collapsed": false
   }
  },
  {
   "cell_type": "code",
   "execution_count": null,
   "outputs": [],
   "source": [],
   "metadata": {
    "collapsed": false
   }
  },
  {
   "cell_type": "code",
   "execution_count": 15,
   "outputs": [
    {
     "name": "stdout",
     "output_type": "stream",
     "text": [
      "0.40640510618686676\n",
      "0.5040413439273834\n"
     ]
    },
    {
     "data": {
      "text/plain": "<Figure size 600x600 with 9 Axes>",
      "image/png": "[encoded data removed]"
     },
     "metadata": {},
     "output_type": "display_data"
    }
   ],
   "source": [
    "analysis.pairplot(posterior_data_matrix[1,2,:,:], limits=[[0.15, 0.65], [0.15, 0.65], [0.15,0.65]], figsize=(6, 6))\n",
    "\n",
    "print(np.median(posterior_data_matrix[1,2,:,0]))\n",
    "print(np.median(posterior_data_matrix[1,2,:,1]))"
   ],
   "metadata": {
    "collapsed": false
   }
  },
  {
   "cell_type": "code",
   "execution_count": null,
   "outputs": [],
   "source": [],
   "metadata": {
    "collapsed": false
   }
  }
 ],
 "metadata": {
  "kernelspec": {
   "display_name": "Python 3",
   "language": "python",
   "name": "python3"
  },
  "language_info": {
   "codemirror_mode": {
    "name": "ipython",
    "version": 2
   },
   "file_extension": ".py",
   "mimetype": "text/x-python",
   "name": "python",
   "nbconvert_exporter": "python",
   "pygments_lexer": "ipython2",
   "version": "2.7.6"
  }
 },
 "nbformat": 4,
 "nbformat_minor": 0
}
